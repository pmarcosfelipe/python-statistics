{
 "cells": [
  {
   "cell_type": "code",
   "execution_count": null,
   "id": "d39d11e5",
   "metadata": {},
   "outputs": [],
   "source": [
    "import pandas as pd\n",
    "\n",
    "pd.__version__"
   ]
  },
  {
   "cell_type": "code",
   "execution_count": null,
   "id": "11ead0bd",
   "metadata": {},
   "outputs": [],
   "source": [
    "measures = {'age': [12, 25, 25, 44, 57, 60, 66, 77, 89], 'height': [130, 155, 160, 160, 168, 171, 175, 177, 180]}\n",
    "\n",
    "measures_dataframe = pd.DataFrame.from_dict(measures)\n",
    "\n",
    "measures_dataframe"
   ]
  },
  {
   "cell_type": "markdown",
   "id": "6b9f1920",
   "metadata": {},
   "source": [
    "## Measure of Position (Medidas de Posição)"
   ]
  },
  {
   "cell_type": "code",
   "execution_count": null,
   "id": "a72d8ec3",
   "metadata": {},
   "outputs": [],
   "source": [
    "# Mean (Média)\n",
    "\n",
    "measures_dataframe[\"age\"].mean()"
   ]
  },
  {
   "cell_type": "code",
   "execution_count": null,
   "id": "0312bb65",
   "metadata": {},
   "outputs": [],
   "source": [
    "# Median (Mediana)\n",
    "\n",
    "measures_dataframe[\"age\"].median()"
   ]
  },
  {
   "cell_type": "code",
   "execution_count": null,
   "id": "db4ea9be",
   "metadata": {},
   "outputs": [],
   "source": [
    "# Mode (Moda)\n",
    "\n",
    "measures_dataframe[\"age\"].mode()"
   ]
  },
  {
   "cell_type": "code",
   "execution_count": null,
   "id": "85cf9853",
   "metadata": {},
   "outputs": [],
   "source": [
    "# Mode (Moda)\n",
    "\n",
    "measures_dataframe[\"height\"].mode()"
   ]
  },
  {
   "cell_type": "markdown",
   "id": "80efb128",
   "metadata": {},
   "source": [
    "## Measure of Dispersion (Medidas de Dispersão)"
   ]
  },
  {
   "cell_type": "code",
   "execution_count": null,
   "id": "373329df",
   "metadata": {},
   "outputs": [],
   "source": [
    "# Variance (Variancia)\n",
    "\n",
    "measures_dataframe.age.var()"
   ]
  },
  {
   "cell_type": "code",
   "execution_count": null,
   "id": "4dcebd10",
   "metadata": {},
   "outputs": [],
   "source": [
    "# Standard Deviation (Desvio Padrão)\n",
    "\n",
    "measures_dataframe.age.std()"
   ]
  },
  {
   "cell_type": "code",
   "execution_count": null,
   "id": "bbc98fd5",
   "metadata": {},
   "outputs": [],
   "source": [
    "# Variation Coefficient (Coeficiente de Variação) - Age\n",
    "\n",
    "(measures_dataframe.age.std() / measures_dataframe.age.mean()) * 100"
   ]
  },
  {
   "cell_type": "code",
   "execution_count": null,
   "id": "cfa3f159",
   "metadata": {},
   "outputs": [],
   "source": [
    "# Variation Coefficient (Coeficiente de Variação) - Height\n",
    "\n",
    "(measures_dataframe.height.std() / measures_dataframe.height.mean()) * 100"
   ]
  },
  {
   "cell_type": "markdown",
   "id": "597670aa",
   "metadata": {},
   "source": [
    "## Measure of Shape (Medidas de Forma)"
   ]
  },
  {
   "cell_type": "code",
   "execution_count": null,
   "id": "e703763c",
   "metadata": {},
   "outputs": [],
   "source": [
    "# Assimetry (Assimetria) - Age\n",
    "# Positive (Right) Skew\n",
    "# Negative (Left) Skew\n",
    "# Zero Skew\n",
    "\n",
    "measures_dataframe.age.skew()"
   ]
  },
  {
   "cell_type": "code",
   "execution_count": null,
   "id": "9af8b7ad",
   "metadata": {},
   "outputs": [],
   "source": [
    "# Assimetry (Assimetria) - Height\n",
    "# Positive (Right) Skew\n",
    "# Negative (Left) Skew\n",
    "# Zero Skew\n",
    "\n",
    "measures_dataframe.height.skew()"
   ]
  },
  {
   "cell_type": "code",
   "execution_count": null,
   "id": "a8ab5460",
   "metadata": {},
   "outputs": [],
   "source": [
    "# Kurtosis (Curtose) - Age\n",
    "\n",
    "measures_dataframe.age.kurtosis()"
   ]
  },
  {
   "cell_type": "code",
   "execution_count": null,
   "id": "6f855542",
   "metadata": {},
   "outputs": [],
   "source": [
    "# Kurtosis (Curtose) - Height\n",
    "\n",
    "measures_dataframe.height.kurtosis()"
   ]
  },
  {
   "cell_type": "code",
   "execution_count": null,
   "id": "e050bcc0",
   "metadata": {},
   "outputs": [],
   "source": [
    "# Obtain statistics measures\n",
    "\n",
    "measures_dataframe.age.describe()"
   ]
  },
  {
   "cell_type": "markdown",
   "id": "02bd4558",
   "metadata": {},
   "source": [
    "### Correlation (Correlation)"
   ]
  },
  {
   "cell_type": "code",
   "execution_count": null,
   "id": "52d44816",
   "metadata": {},
   "outputs": [],
   "source": [
    "# Pearson Correlation Coefficient (Coeficiante de Correlação de Pearson)\n",
    "# DataFrame correlation\n",
    "\n",
    "measures_dataframe.corr(method=\"pearson\")"
   ]
  },
  {
   "cell_type": "code",
   "execution_count": null,
   "id": "03d1337d",
   "metadata": {},
   "outputs": [],
   "source": []
  },
  {
   "cell_type": "code",
   "execution_count": null,
   "id": "9827bb9e",
   "metadata": {},
   "outputs": [],
   "source": [
    "# Pearson Correlation Coefficient (Coeficiante de Correlação de Pearson)\n",
    "# Correlation between two variables\n",
    "\n",
    "measures_dataframe.age.corr(measures_dataframe.height)"
   ]
  },
  {
   "cell_type": "code",
   "execution_count": null,
   "id": "d4fc4241",
   "metadata": {},
   "outputs": [],
   "source": [
    "# Spearman Correlation Coefficient (Coeficiante de Correlação de Spearman)\n",
    "# DataFrame correlation\n",
    "\n",
    "measures_dataframe.corr(method=\"spearman\")"
   ]
  }
 ],
 "metadata": {
  "kernelspec": {
   "display_name": "python-statistics-B2g8Oqzr",
   "language": "python",
   "name": "python3"
  },
  "language_info": {
   "codemirror_mode": {
    "name": "ipython",
    "version": 3
   },
   "file_extension": ".py",
   "mimetype": "text/x-python",
   "name": "python",
   "nbconvert_exporter": "python",
   "pygments_lexer": "ipython3",
   "version": "3.11.5"
  }
 },
 "nbformat": 4,
 "nbformat_minor": 5
}
